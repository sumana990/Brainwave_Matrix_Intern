{
 "cells": [
  {
   "cell_type": "code",
   "execution_count": 3,
   "id": "23a7f399-e5c5-4e99-830f-e97aa70b1615",
   "metadata": {},
   "outputs": [
    {
     "name": "stdout",
     "output_type": "stream",
     "text": [
      "Scanning URL: http://www.mybankk.com\n",
      "⚠️ WARNING: The URL contains suspicious patterns!\n"
     ]
    }
   ],
   "source": [
    "import requests\n",
    "import re\n",
    "from urllib.parse import urlparse\n",
    "\n",
    "# Function to check URL against PhishTank API\n",
    "def check_phishtank(url):\n",
    "    api_url = \"https://phishtank.org/checkurl/\"\n",
    "    try:\n",
    "        response = requests.get(f\"https://openphish.com/feed.txt\")\n",
    "        phishing_sites = response.text.split(\"\\n\")\n",
    "        return url in phishing_sites\n",
    "    except requests.RequestException:\n",
    "        return False\n",
    "\n",
    "# Function to detect suspicious patterns in URL\n",
    "def detect_suspicious_patterns(url):\n",
    "    phishing_patterns = [\n",
    "        r\"https?://.*\\d{5,}\",  # URLs with many numbers\n",
    "        r\"https?://.*free.*\",  # Keywords like 'free'\n",
    "        r\"https?://.*secure.*\",  # Fake secure references\n",
    "        r\"https?://.*bank.*\",  # Banking phishing scams\n",
    "        r\"https?://.*paypal.*\",  # PayPal phishing scams\n",
    "        r\"https?://.*login.*\",  # Fake login pages\n",
    "    ]\n",
    "    return any(re.match(pattern, url) for pattern in phishing_patterns)\n",
    "\n",
    "# Function to check URL redirections\n",
    "def check_redirections(url):\n",
    "    try:\n",
    "        response = requests.get(url, allow_redirects=True, timeout=5)\n",
    "        return len(response.history) > 2  # More than two redirects is suspicious\n",
    "    except requests.RequestException:\n",
    "        return False\n",
    "\n",
    "# Main function\n",
    "def scan_url(url):\n",
    "    parsed_url = urlparse(url)\n",
    "    \n",
    "    if not parsed_url.scheme.startswith(\"http\"):\n",
    "        return \"Invalid URL format\"\n",
    "    \n",
    "    print(f\"Scanning URL: {url}\")\n",
    "    \n",
    "    if check_phishtank(url):\n",
    "        return \"⚠️ WARNING: This URL is a known phishing site!\"\n",
    "\n",
    "    if detect_suspicious_patterns(url):\n",
    "        return \"⚠️ WARNING: The URL contains suspicious patterns!\"\n",
    "    \n",
    "    if check_redirections(url):\n",
    "        return \"⚠️ WARNING: The URL has excessive redirections!\"\n",
    "    \n",
    "    return \"✅ The URL appears to be safe, but always proceed with caution.\"\n",
    "\n",
    "# Example usage\n",
    "url_to_scan = \"http://www.mybankk.com\"\n",
    "print(scan_url(url_to_scan))\n"
   ]
  },
  {
   "cell_type": "code",
   "execution_count": null,
   "id": "ccdfe2a4-19ed-45eb-a803-82c5f241192c",
   "metadata": {},
   "outputs": [],
   "source": []
  }
 ],
 "metadata": {
  "kernelspec": {
   "display_name": "Python [conda env:base] *",
   "language": "python",
   "name": "conda-base-py"
  },
  "language_info": {
   "codemirror_mode": {
    "name": "ipython",
    "version": 3
   },
   "file_extension": ".py",
   "mimetype": "text/x-python",
   "name": "python",
   "nbconvert_exporter": "python",
   "pygments_lexer": "ipython3",
   "version": "3.12.7"
  }
 },
 "nbformat": 4,
 "nbformat_minor": 5
}
